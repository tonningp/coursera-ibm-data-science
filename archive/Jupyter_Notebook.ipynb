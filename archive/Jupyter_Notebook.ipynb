{
 "cells": [
  {
   "cell_type": "markdown",
   "metadata": {},
   "source": [
    "<center>\n",
    "    <img src=\"https://cf-courses-data.s3.us.cloud-object-storage.appdomain.cloud/IBMDeveloperSkillsNetwork-DS0105EN-SkillsNetwork/labs/Module2/images/SN_web_lightmode.png\" width=\"300\" alt=\"cognitiveclass.ai logo\">\n",
    "</center>\n"
   ]
  },
  {
   "cell_type": "markdown",
   "metadata": {},
   "source": [
    "#### Add your code below following the instructions given in the course\n"
   ]
  },
  {
   "cell_type": "markdown",
   "metadata": {},
   "source": [
    "# Exercise 2 - Create a markdown cell with the title of the notebook. (1 pt)\n",
    "\n",
    "# Peer-Graded Jupyter Notebook Assignment"
   ]
  },
  {
   "cell_type": "markdown",
   "metadata": {},
   "source": [
    "# Exercise 3 - Create a markdown cell for an introduction. (1 pt)\n",
    "\n",
    "# Introduction\n",
    "\n",
    "```Welcome to your peer-graded Jupyter Notebook assignment! In this task, I'll demonstrate the ability to:\n",
    "\n",
    "    ✍️ Use Markdown to organize content with lists, tables, and headings\n",
    "\n",
    "    🧠 Showcase understanding of data science tools, languages, and libraries\n",
    "\n",
    "    🧮 Write simple Python code for arithmetic and unit conversions\n",
    "\n",
    "    👤 Add personal info like my name and objectives\n",
    "\n",
    "    🌐 I'll share my work on GitHub and 📸 include a screenshot\n",
    "\n",
    "This assignment helps to build foundational notebook formatting and sharing skills essential for effective communication in data science."
   ]
  },
  {
   "cell_type": "markdown",
   "metadata": {},
   "source": [
    "# Exercise 4 - Create a markdown cell to list data science languages. (3 pts)\n",
    "```markdown\n",
    "- Python\n",
    "- R\n",
    "- SQL\n",
    "```"
   ]
  },
  {
   "cell_type": "markdown",
   "metadata": {},
   "source": [
    "# Exercise 5 - Create a markdown cell to list data science libraries. (3 pts)\n",
    "```\n",
    "- Python Libraries:\n",
    "   - NumPy\n",
    "   - Pandas\n",
    "   - Matplotlib\n",
    "   - Scikit-learn\n",
    "   - Seaborn\n",
    "   - TensorFlow\n",
    "   - Keras\n",
    "\n",
    "\n",
    "- R Libraries:\n",
    "    - ggplot2\n",
    "    - dplyr\n",
    "    - tidyr\n",
    "    - caret\n",
    "    - randomForest\n",
    "    - shiny\n",
    "    - readr\n",
    "```"
   ]
  },
  {
   "cell_type": "markdown",
   "metadata": {},
   "source": [
    "# Exercise 6 - Create a markdown cell with a table of Data Science tools. (3 pts)\n",
    "\n",
    "| Tool         | Type               | Primary Use                                   |\n",
    "| ------------ | ------------------ | --------------------------------------------- |\n",
    "| Jupyter      | Notebook Interface | Interactive coding and documentation          |\n",
    "| RStudio      | IDE                | Statistical computing with R                  |\n",
    "| VS Code      | IDE                | Multi-language code editing                   |\n",
    "| Tableau      | Visualization Tool | Creating interactive data dashboards          |\n",
    "| Power BI     | Visualization Tool | Business analytics and reporting              |\n",
    "| Apache Spark | Processing Engine  | Big data processing                           |\n",
    "| TensorFlow   | ML Framework       | Building and training machine learning models |\n"
   ]
  },
  {
   "cell_type": "markdown",
   "metadata": {},
   "source": [
    "# Exercise 7 - Create a markdown cell introducing arithmetic expression examples. (1 pt)\n",
    "\n",
    "| Operator | Description         | Example         |\n",
    "| -------- | ------------------- | --------------- |\n",
    "| `+`      | Addition            | `3 + 2`    |\n",
    "| `-`      | Subtraction         | `5 - 1`   |\n",
    "| `*`      | Multiplication      | `4 * 2`    |\n",
    "| `/`      | Division            | `8 / 2`  |\n",
    "| `**`     | Exponentiation      | `2 ** 3``  |\n",
    "| `%`      | Modulus (remainder) | `7 % 3`   |\n"
   ]
  },
  {
   "cell_type": "markdown",
   "metadata": {},
   "source": [
    "# Exercise 8 - Create a code cell to multiply and add numbers. (2 pts)"
   ]
  },
  {
   "cell_type": "code",
   "execution_count": 4,
   "metadata": {},
   "outputs": [
    {
     "name": "stdout",
     "output_type": "stream",
     "text": [
      "The answer to 21 * 2 =  42\n",
      "The answer to 40 + 2 =  42\n"
     ]
    }
   ],
   "source": [
    "print(\"The answer to 21 * 2 = \",21 * 2)\n",
    "print(\"The answer to 40 + 2 = \",40 + 2)"
   ]
  },
  {
   "cell_type": "markdown",
   "metadata": {},
   "source": [
    "# Exercise 9 - Create a code cell to convert minutes to hours. (2 pts)"
   ]
  },
  {
   "cell_type": "code",
   "execution_count": 9,
   "metadata": {},
   "outputs": [
    {
     "name": "stdout",
     "output_type": "stream",
     "text": [
      "250 minutes = 4.17 hours\n"
     ]
    }
   ],
   "source": [
    "def convert_to_hours(m):\n",
    "    return m / 60\n",
    "\n",
    "print(f\"250 minutes = {convert_to_hours(250):.2f} hours\")"
   ]
  },
  {
   "cell_type": "markdown",
   "metadata": {},
   "source": [
    "# Exercise 10 -Insert a markdown cell to list Objectives. (3 pts)\n",
    "\n",
    "# Objectives\n",
    "```\n",
    "    - Create a Jupyter Notebook with markdown and code cells\n",
    "    - List examples of languages, libraries and tools used in Data Science\n",
    "    - Share your Jupyter Notebook publicly on GitHub\n",
    "    - Evaluate notebooks submitted by your peers using the provided rubric\n",
    "    - Demonstrate proficiency in Data Science toolkit knowledge\n",
    "```\n"
   ]
  },
  {
   "cell_type": "markdown",
   "metadata": {},
   "source": [
    "# Exercise 11 - Create a markdown cell to indicate the Author’s name. (2 pts)\n",
    "\n",
    "# Author Name\n",
    "## Paul Tonning\n"
   ]
  },
  {
   "cell_type": "markdown",
   "metadata": {},
   "source": [
    "# Exercise 12 - Share your notebook through GitHub (3 pts)\n",
    "\n",
    "[https://github.com/tonningp/coursera-ibm-data-science](https://github.com/tonningp/coursera-ibm-data-science)"
   ]
  },
  {
   "cell_type": "markdown",
   "metadata": {},
   "source": [
    "# Exercise 13 - Take a screenshot of the first page of the notebook. (1 pt)\n",
    "\n",
    "[https://github.com/tonningp/coursera-ibm-data-science/blob/main/first_page_of_notebook.png](https://github.com/tonningp/coursera-ibm-data-science/blob/main/first_page_of_notebook.png)"
   ]
  }
 ],
 "metadata": {
  "kernelspec": {
   "display_name": "Python 3 (ipykernel)",
   "language": "python",
   "name": "python3"
  },
  "language_info": {
   "codemirror_mode": {
    "name": "ipython",
    "version": 3
   },
   "file_extension": ".py",
   "mimetype": "text/x-python",
   "name": "python",
   "nbconvert_exporter": "python",
   "pygments_lexer": "ipython3",
   "version": "3.12.8"
  }
 },
 "nbformat": 4,
 "nbformat_minor": 4
}
