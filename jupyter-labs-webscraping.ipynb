{
 "cells": [
  {
   "cell_type": "markdown",
   "metadata": {},
   "source": [
    "<p style=\"text-align:center\">\n",
    "    <a href=\"https://skills.network\" target=\"_blank\">\n",
    "    <img src=\"https://cf-courses-data.s3.us.cloud-object-storage.appdomain.cloud/assets/logos/SN_web_lightmode.png\" width=\"200\" alt=\"Skills Network Logo\">\n",
    "    </a>\n",
    "</p>\n"
   ]
  },
  {
   "cell_type": "markdown",
   "metadata": {},
   "source": [
    "# **Space X  Falcon 9 First Stage Landing Prediction**\n"
   ]
  },
  {
   "cell_type": "markdown",
   "metadata": {},
   "source": [
    "## Web scraping Falcon 9 and Falcon Heavy Launches Records from Wikipedia\n"
   ]
  },
  {
   "cell_type": "markdown",
   "metadata": {},
   "source": [
    "Estimated time needed: **40** minutes\n"
   ]
  },
  {
   "cell_type": "markdown",
   "metadata": {},
   "source": [
    "In this lab, you will be performing web scraping to collect Falcon 9 historical launch records from a Wikipedia page titled `List of Falcon 9 and Falcon Heavy launches`\n",
    "\n",
    "https://en.wikipedia.org/wiki/List_of_Falcon_9_and_Falcon_Heavy_launches\n"
   ]
  },
  {
   "cell_type": "markdown",
   "metadata": {},
   "source": [
    "![](https://cf-courses-data.s3.us.cloud-object-storage.appdomain.cloud/IBM-DS0321EN-SkillsNetwork/labs/module_1_L2/images/Falcon9_rocket_family.svg)\n"
   ]
  },
  {
   "cell_type": "markdown",
   "metadata": {},
   "source": [
    "Falcon 9 first stage will land successfully\n"
   ]
  },
  {
   "cell_type": "markdown",
   "metadata": {},
   "source": [
    "![](https://cf-courses-data.s3.us.cloud-object-storage.appdomain.cloud/IBMDeveloperSkillsNetwork-DS0701EN-SkillsNetwork/api/Images/landing_1.gif)\n"
   ]
  },
  {
   "cell_type": "markdown",
   "metadata": {},
   "source": [
    "Several examples of an unsuccessful landing are shown here:\n"
   ]
  },
  {
   "cell_type": "markdown",
   "metadata": {},
   "source": [
    "![](https://cf-courses-data.s3.us.cloud-object-storage.appdomain.cloud/IBMDeveloperSkillsNetwork-DS0701EN-SkillsNetwork/api/Images/crash.gif)\n"
   ]
  },
  {
   "cell_type": "markdown",
   "metadata": {},
   "source": [
    "More specifically, the launch records are stored in a HTML table shown below:\n"
   ]
  },
  {
   "cell_type": "markdown",
   "metadata": {},
   "source": [
    "![](https://cf-courses-data.s3.us.cloud-object-storage.appdomain.cloud/IBM-DS0321EN-SkillsNetwork/labs/module_1_L2/images/falcon9-launches-wiki.png)\n"
   ]
  },
  {
   "cell_type": "markdown",
   "metadata": {},
   "source": [
    "  ## Objectives\n",
    "Web scrap Falcon 9 launch records with `BeautifulSoup`: \n",
    "- Extract a Falcon 9 launch records HTML table from Wikipedia\n",
    "- Parse the table and convert it into a Pandas data frame\n"
   ]
  },
  {
   "cell_type": "markdown",
   "metadata": {},
   "source": [
    "First let's import required packages for this lab\n"
   ]
  },
  {
   "cell_type": "code",
   "execution_count": 1,
   "metadata": {},
   "outputs": [
    {
     "name": "stdout",
     "output_type": "stream",
     "text": [
      "Requirement already satisfied: beautifulsoup4 in /opt/conda/lib/python3.11/site-packages (4.12.2)\n",
      "Requirement already satisfied: soupsieve>1.2 in /opt/conda/lib/python3.11/site-packages (from beautifulsoup4) (2.5)\n",
      "Requirement already satisfied: requests in /opt/conda/lib/python3.11/site-packages (2.31.0)\n",
      "Requirement already satisfied: charset-normalizer<4,>=2 in /opt/conda/lib/python3.11/site-packages (from requests) (3.3.0)\n",
      "Requirement already satisfied: idna<4,>=2.5 in /opt/conda/lib/python3.11/site-packages (from requests) (3.4)\n",
      "Requirement already satisfied: urllib3<3,>=1.21.1 in /opt/conda/lib/python3.11/site-packages (from requests) (2.0.7)\n",
      "Requirement already satisfied: certifi>=2017.4.17 in /opt/conda/lib/python3.11/site-packages (from requests) (2025.4.26)\n"
     ]
    },
    {
     "data": {
      "application/javascript": [
       "\n",
       "    (function() {\n",
       "        console.log(\"📦 Injecting HTMX and HyperScript...\");\n",
       "\n",
       "        if (!window.htmx) {\n",
       "            const htmxScript = document.createElement(\"script\");\n",
       "            htmxScript.src = \"https://unpkg.com/htmx.org@2.0.4\";\n",
       "            htmxScript.defer = true;\n",
       "            htmxScript.onload = () => {\n",
       "                console.log(\"✅ HTMX 2.0.4 loaded\");\n",
       "                if (typeof htmx !== 'undefined') {\n",
       "                    htmx.process(document);\n",
       "                    console.log(\"🔄 HTMX processed DOM\");\n",
       "                }\n",
       "            };\n",
       "            document.head.appendChild(htmxScript);\n",
       "        } else {\n",
       "            htmx.process(document);\n",
       "            console.log(\"♻️ HTMX already loaded — DOM re-processed\");\n",
       "        }\n",
       "\n",
       "        if (!window._hyperscript) {\n",
       "            const hs = document.createElement(\"script\");\n",
       "            hs.src = \"https://unpkg.com/hyperscript.org@0.9.14\";\n",
       "            hs.defer = true;\n",
       "            hs.onload = () => console.log(\"✅ HyperScript 0.9.14 loaded\");\n",
       "            document.head.appendChild(hs);\n",
       "        }\n",
       "    })();\n",
       "    "
      ],
      "text/plain": [
       "<IPython.core.display.Javascript object>"
      ]
     },
     "metadata": {},
     "output_type": "display_data"
    }
   ],
   "source": [
    "!pip3 install beautifulsoup4\n",
    "!pip3 install requests"
   ]
  },
  {
   "cell_type": "code",
   "execution_count": 2,
   "metadata": {},
   "outputs": [
    {
     "data": {
      "application/javascript": [
       "\n",
       "    (function() {\n",
       "        console.log(\"📦 Injecting HTMX and HyperScript...\");\n",
       "\n",
       "        if (!window.htmx) {\n",
       "            const htmxScript = document.createElement(\"script\");\n",
       "            htmxScript.src = \"https://unpkg.com/htmx.org@2.0.4\";\n",
       "            htmxScript.defer = true;\n",
       "            htmxScript.onload = () => {\n",
       "                console.log(\"✅ HTMX 2.0.4 loaded\");\n",
       "                if (typeof htmx !== 'undefined') {\n",
       "                    htmx.process(document);\n",
       "                    console.log(\"🔄 HTMX processed DOM\");\n",
       "                }\n",
       "            };\n",
       "            document.head.appendChild(htmxScript);\n",
       "        } else {\n",
       "            htmx.process(document);\n",
       "            console.log(\"♻️ HTMX already loaded — DOM re-processed\");\n",
       "        }\n",
       "\n",
       "        if (!window._hyperscript) {\n",
       "            const hs = document.createElement(\"script\");\n",
       "            hs.src = \"https://unpkg.com/hyperscript.org@0.9.14\";\n",
       "            hs.defer = true;\n",
       "            hs.onload = () => console.log(\"✅ HyperScript 0.9.14 loaded\");\n",
       "            document.head.appendChild(hs);\n",
       "        }\n",
       "    })();\n",
       "    "
      ],
      "text/plain": [
       "<IPython.core.display.Javascript object>"
      ]
     },
     "metadata": {},
     "output_type": "display_data"
    }
   ],
   "source": [
    "import sys\n",
    "\n",
    "import requests\n",
    "from bs4 import BeautifulSoup\n",
    "import re\n",
    "import unicodedata\n",
    "import pandas as pd"
   ]
  },
  {
   "cell_type": "markdown",
   "metadata": {},
   "source": [
    "and we will provide some helper functions for you to process web scraped HTML table\n"
   ]
  },
  {
   "cell_type": "code",
   "execution_count": 3,
   "metadata": {},
   "outputs": [
    {
     "data": {
      "application/javascript": [
       "\n",
       "    (function() {\n",
       "        console.log(\"📦 Injecting HTMX and HyperScript...\");\n",
       "\n",
       "        if (!window.htmx) {\n",
       "            const htmxScript = document.createElement(\"script\");\n",
       "            htmxScript.src = \"https://unpkg.com/htmx.org@2.0.4\";\n",
       "            htmxScript.defer = true;\n",
       "            htmxScript.onload = () => {\n",
       "                console.log(\"✅ HTMX 2.0.4 loaded\");\n",
       "                if (typeof htmx !== 'undefined') {\n",
       "                    htmx.process(document);\n",
       "                    console.log(\"🔄 HTMX processed DOM\");\n",
       "                }\n",
       "            };\n",
       "            document.head.appendChild(htmxScript);\n",
       "        } else {\n",
       "            htmx.process(document);\n",
       "            console.log(\"♻️ HTMX already loaded — DOM re-processed\");\n",
       "        }\n",
       "\n",
       "        if (!window._hyperscript) {\n",
       "            const hs = document.createElement(\"script\");\n",
       "            hs.src = \"https://unpkg.com/hyperscript.org@0.9.14\";\n",
       "            hs.defer = true;\n",
       "            hs.onload = () => console.log(\"✅ HyperScript 0.9.14 loaded\");\n",
       "            document.head.appendChild(hs);\n",
       "        }\n",
       "    })();\n",
       "    "
      ],
      "text/plain": [
       "<IPython.core.display.Javascript object>"
      ]
     },
     "metadata": {},
     "output_type": "display_data"
    }
   ],
   "source": [
    "def date_time(table_cells):\n",
    "    \"\"\"\n",
    "    This function returns the data and time from the HTML  table cell\n",
    "    Input: the  element of a table data cell extracts extra row\n",
    "    \"\"\"\n",
    "    return [data_time.strip() for data_time in list(table_cells.strings)][0:2]\n",
    "\n",
    "def booster_version(table_cells):\n",
    "    \"\"\"\n",
    "    This function returns the booster version from the HTML  table cell \n",
    "    Input: the  element of a table data cell extracts extra row\n",
    "    \"\"\"\n",
    "    out=''.join([booster_version for i,booster_version in enumerate( table_cells.strings) if i%2==0][0:-1])\n",
    "    return out\n",
    "\n",
    "def landing_status(table_cells):\n",
    "    \"\"\"\n",
    "    This function returns the landing status from the HTML table cell \n",
    "    Input: the  element of a table data cell extracts extra row\n",
    "    \"\"\"\n",
    "    out=[i for i in table_cells.strings][0]\n",
    "    return out\n",
    "\n",
    "\n",
    "def get_mass(table_cells):\n",
    "    mass=unicodedata.normalize(\"NFKD\", table_cells.text).strip()\n",
    "    if mass:\n",
    "        mass.find(\"kg\")\n",
    "        new_mass=mass[0:mass.find(\"kg\")+2]\n",
    "    else:\n",
    "        new_mass=0\n",
    "    return new_mass\n",
    "\n",
    "\n",
    "def extract_column_from_header(row):\n",
    "    \"\"\"\n",
    "    This function returns the landing status from the HTML table cell \n",
    "    Input: the  element of a table data cell extracts extra row\n",
    "    \"\"\"\n",
    "    if (row.br):\n",
    "        row.br.extract()\n",
    "    if row.a:\n",
    "        row.a.extract()\n",
    "    if row.sup:\n",
    "        row.sup.extract()\n",
    "        \n",
    "    colunm_name = ' '.join(row.contents)\n",
    "    \n",
    "    # Filter the digit and empty names\n",
    "    if not(colunm_name.strip().isdigit()):\n",
    "        colunm_name = colunm_name.strip()\n",
    "        return colunm_name    \n"
   ]
  },
  {
   "cell_type": "markdown",
   "metadata": {},
   "source": [
    "To keep the lab tasks consistent, you will be asked to scrape the data from a snapshot of the  `List of Falcon 9 and Falcon Heavy launches` Wikipage updated on\n",
    "`9th June 2021`\n"
   ]
  },
  {
   "cell_type": "code",
   "execution_count": 4,
   "metadata": {},
   "outputs": [
    {
     "data": {
      "application/javascript": [
       "\n",
       "    (function() {\n",
       "        console.log(\"📦 Injecting HTMX and HyperScript...\");\n",
       "\n",
       "        if (!window.htmx) {\n",
       "            const htmxScript = document.createElement(\"script\");\n",
       "            htmxScript.src = \"https://unpkg.com/htmx.org@2.0.4\";\n",
       "            htmxScript.defer = true;\n",
       "            htmxScript.onload = () => {\n",
       "                console.log(\"✅ HTMX 2.0.4 loaded\");\n",
       "                if (typeof htmx !== 'undefined') {\n",
       "                    htmx.process(document);\n",
       "                    console.log(\"🔄 HTMX processed DOM\");\n",
       "                }\n",
       "            };\n",
       "            document.head.appendChild(htmxScript);\n",
       "        } else {\n",
       "            htmx.process(document);\n",
       "            console.log(\"♻️ HTMX already loaded — DOM re-processed\");\n",
       "        }\n",
       "\n",
       "        if (!window._hyperscript) {\n",
       "            const hs = document.createElement(\"script\");\n",
       "            hs.src = \"https://unpkg.com/hyperscript.org@0.9.14\";\n",
       "            hs.defer = true;\n",
       "            hs.onload = () => console.log(\"✅ HyperScript 0.9.14 loaded\");\n",
       "            document.head.appendChild(hs);\n",
       "        }\n",
       "    })();\n",
       "    "
      ],
      "text/plain": [
       "<IPython.core.display.Javascript object>"
      ]
     },
     "metadata": {},
     "output_type": "display_data"
    }
   ],
   "source": [
    "static_url = \"https://en.wikipedia.org/w/index.php?title=List_of_Falcon_9_and_Falcon_Heavy_launches&oldid=1027686922\""
   ]
  },
  {
   "cell_type": "markdown",
   "metadata": {},
   "source": [
    "Next, request the HTML page from the above URL and get a `response` object\n"
   ]
  },
  {
   "cell_type": "markdown",
   "metadata": {},
   "source": [
    "### TASK 1: Request the Falcon9 Launch Wiki page from its URL\n"
   ]
  },
  {
   "cell_type": "markdown",
   "metadata": {},
   "source": [
    "First, let's perform an HTTP GET method to request the Falcon9 Launch HTML page, as an HTTP response.\n"
   ]
  },
  {
   "cell_type": "code",
   "execution_count": 5,
   "metadata": {},
   "outputs": [
    {
     "data": {
      "application/javascript": [
       "\n",
       "    (function() {\n",
       "        console.log(\"📦 Injecting HTMX and HyperScript...\");\n",
       "\n",
       "        if (!window.htmx) {\n",
       "            const htmxScript = document.createElement(\"script\");\n",
       "            htmxScript.src = \"https://unpkg.com/htmx.org@2.0.4\";\n",
       "            htmxScript.defer = true;\n",
       "            htmxScript.onload = () => {\n",
       "                console.log(\"✅ HTMX 2.0.4 loaded\");\n",
       "                if (typeof htmx !== 'undefined') {\n",
       "                    htmx.process(document);\n",
       "                    console.log(\"🔄 HTMX processed DOM\");\n",
       "                }\n",
       "            };\n",
       "            document.head.appendChild(htmxScript);\n",
       "        } else {\n",
       "            htmx.process(document);\n",
       "            console.log(\"♻️ HTMX already loaded — DOM re-processed\");\n",
       "        }\n",
       "\n",
       "        if (!window._hyperscript) {\n",
       "            const hs = document.createElement(\"script\");\n",
       "            hs.src = \"https://unpkg.com/hyperscript.org@0.9.14\";\n",
       "            hs.defer = true;\n",
       "            hs.onload = () => console.log(\"✅ HyperScript 0.9.14 loaded\");\n",
       "            document.head.appendChild(hs);\n",
       "        }\n",
       "    })();\n",
       "    "
      ],
      "text/plain": [
       "<IPython.core.display.Javascript object>"
      ]
     },
     "metadata": {},
     "output_type": "display_data"
    }
   ],
   "source": [
    "# use requests.get() method with the provided static_url\n",
    "# assign the response to a object\n",
    "response = requests.get(static_url)"
   ]
  },
  {
   "cell_type": "markdown",
   "metadata": {},
   "source": [
    "Create a `BeautifulSoup` object from the HTML `response`\n"
   ]
  },
  {
   "cell_type": "code",
   "execution_count": 6,
   "metadata": {},
   "outputs": [
    {
     "data": {
      "application/javascript": [
       "\n",
       "    (function() {\n",
       "        console.log(\"📦 Injecting HTMX and HyperScript...\");\n",
       "\n",
       "        if (!window.htmx) {\n",
       "            const htmxScript = document.createElement(\"script\");\n",
       "            htmxScript.src = \"https://unpkg.com/htmx.org@2.0.4\";\n",
       "            htmxScript.defer = true;\n",
       "            htmxScript.onload = () => {\n",
       "                console.log(\"✅ HTMX 2.0.4 loaded\");\n",
       "                if (typeof htmx !== 'undefined') {\n",
       "                    htmx.process(document);\n",
       "                    console.log(\"🔄 HTMX processed DOM\");\n",
       "                }\n",
       "            };\n",
       "            document.head.appendChild(htmxScript);\n",
       "        } else {\n",
       "            htmx.process(document);\n",
       "            console.log(\"♻️ HTMX already loaded — DOM re-processed\");\n",
       "        }\n",
       "\n",
       "        if (!window._hyperscript) {\n",
       "            const hs = document.createElement(\"script\");\n",
       "            hs.src = \"https://unpkg.com/hyperscript.org@0.9.14\";\n",
       "            hs.defer = true;\n",
       "            hs.onload = () => console.log(\"✅ HyperScript 0.9.14 loaded\");\n",
       "            document.head.appendChild(hs);\n",
       "        }\n",
       "    })();\n",
       "    "
      ],
      "text/plain": [
       "<IPython.core.display.Javascript object>"
      ]
     },
     "metadata": {},
     "output_type": "display_data"
    }
   ],
   "source": [
    "# Use BeautifulSoup() to create a BeautifulSoup object from a response text content\n",
    "soup =  BeautifulSoup(response.text, 'html.parser')"
   ]
  },
  {
   "cell_type": "markdown",
   "metadata": {},
   "source": [
    "Print the page title to verify if the `BeautifulSoup` object was created properly \n"
   ]
  },
  {
   "cell_type": "code",
   "execution_count": 7,
   "metadata": {},
   "outputs": [
    {
     "data": {
      "text/plain": [
       "<title>List of Falcon 9 and Falcon Heavy launches - Wikipedia</title>"
      ]
     },
     "execution_count": 7,
     "metadata": {},
     "output_type": "execute_result"
    },
    {
     "data": {
      "application/javascript": [
       "\n",
       "    (function() {\n",
       "        console.log(\"📦 Injecting HTMX and HyperScript...\");\n",
       "\n",
       "        if (!window.htmx) {\n",
       "            const htmxScript = document.createElement(\"script\");\n",
       "            htmxScript.src = \"https://unpkg.com/htmx.org@2.0.4\";\n",
       "            htmxScript.defer = true;\n",
       "            htmxScript.onload = () => {\n",
       "                console.log(\"✅ HTMX 2.0.4 loaded\");\n",
       "                if (typeof htmx !== 'undefined') {\n",
       "                    htmx.process(document);\n",
       "                    console.log(\"🔄 HTMX processed DOM\");\n",
       "                }\n",
       "            };\n",
       "            document.head.appendChild(htmxScript);\n",
       "        } else {\n",
       "            htmx.process(document);\n",
       "            console.log(\"♻️ HTMX already loaded — DOM re-processed\");\n",
       "        }\n",
       "\n",
       "        if (!window._hyperscript) {\n",
       "            const hs = document.createElement(\"script\");\n",
       "            hs.src = \"https://unpkg.com/hyperscript.org@0.9.14\";\n",
       "            hs.defer = true;\n",
       "            hs.onload = () => console.log(\"✅ HyperScript 0.9.14 loaded\");\n",
       "            document.head.appendChild(hs);\n",
       "        }\n",
       "    })();\n",
       "    "
      ],
      "text/plain": [
       "<IPython.core.display.Javascript object>"
      ]
     },
     "metadata": {},
     "output_type": "display_data"
    }
   ],
   "source": [
    "# Use soup.title attribute\n",
    "soup.title"
   ]
  },
  {
   "cell_type": "markdown",
   "metadata": {},
   "source": [
    "### TASK 2: Extract all column/variable names from the HTML table header\n"
   ]
  },
  {
   "cell_type": "markdown",
   "metadata": {},
   "source": [
    "Next, we want to collect all relevant column names from the HTML table header\n"
   ]
  },
  {
   "cell_type": "markdown",
   "metadata": {},
   "source": [
    "Let's try to find all tables on the wiki page first. If you need to refresh your memory about `BeautifulSoup`, please check the external reference link towards the end of this lab\n"
   ]
  },
  {
   "cell_type": "code",
   "execution_count": 8,
   "metadata": {},
   "outputs": [
    {
     "data": {
      "application/javascript": [
       "\n",
       "    (function() {\n",
       "        console.log(\"📦 Injecting HTMX and HyperScript...\");\n",
       "\n",
       "        if (!window.htmx) {\n",
       "            const htmxScript = document.createElement(\"script\");\n",
       "            htmxScript.src = \"https://unpkg.com/htmx.org@2.0.4\";\n",
       "            htmxScript.defer = true;\n",
       "            htmxScript.onload = () => {\n",
       "                console.log(\"✅ HTMX 2.0.4 loaded\");\n",
       "                if (typeof htmx !== 'undefined') {\n",
       "                    htmx.process(document);\n",
       "                    console.log(\"🔄 HTMX processed DOM\");\n",
       "                }\n",
       "            };\n",
       "            document.head.appendChild(htmxScript);\n",
       "        } else {\n",
       "            htmx.process(document);\n",
       "            console.log(\"♻️ HTMX already loaded — DOM re-processed\");\n",
       "        }\n",
       "\n",
       "        if (!window._hyperscript) {\n",
       "            const hs = document.createElement(\"script\");\n",
       "            hs.src = \"https://unpkg.com/hyperscript.org@0.9.14\";\n",
       "            hs.defer = true;\n",
       "            hs.onload = () => console.log(\"✅ HyperScript 0.9.14 loaded\");\n",
       "            document.head.appendChild(hs);\n",
       "        }\n",
       "    })();\n",
       "    "
      ],
      "text/plain": [
       "<IPython.core.display.Javascript object>"
      ]
     },
     "metadata": {},
     "output_type": "display_data"
    }
   ],
   "source": [
    "# Use the find_all function in the BeautifulSoup object, with element type `table`\n",
    "# Assign the result to a list called `html_tables`\n",
    "# Extract all tables\n",
    "html_tables = soup.find_all('table')\n",
    "\n",
    "# Assuming we're interested in the first table; adjust as necessary\n",
    "column_names = []\n",
    "if html_tables:\n",
    "    for th in html_tables[0].find_all('th'):\n",
    "        column_names.append(th.get_text(strip=True))\n",
    "\n",
    "# Print or work with the list of column names"
   ]
  },
  {
   "cell_type": "markdown",
   "metadata": {},
   "source": [
    "Starting from the third table is our target table contains the actual launch records.\n"
   ]
  },
  {
   "cell_type": "code",
   "execution_count": 9,
   "metadata": {},
   "outputs": [
    {
     "data": {
      "application/javascript": [
       "\n",
       "    (function() {\n",
       "        console.log(\"📦 Injecting HTMX and HyperScript...\");\n",
       "\n",
       "        if (!window.htmx) {\n",
       "            const htmxScript = document.createElement(\"script\");\n",
       "            htmxScript.src = \"https://unpkg.com/htmx.org@2.0.4\";\n",
       "            htmxScript.defer = true;\n",
       "            htmxScript.onload = () => {\n",
       "                console.log(\"✅ HTMX 2.0.4 loaded\");\n",
       "                if (typeof htmx !== 'undefined') {\n",
       "                    htmx.process(document);\n",
       "                    console.log(\"🔄 HTMX processed DOM\");\n",
       "                }\n",
       "            };\n",
       "            document.head.appendChild(htmxScript);\n",
       "        } else {\n",
       "            htmx.process(document);\n",
       "            console.log(\"♻️ HTMX already loaded — DOM re-processed\");\n",
       "        }\n",
       "\n",
       "        if (!window._hyperscript) {\n",
       "            const hs = document.createElement(\"script\");\n",
       "            hs.src = \"https://unpkg.com/hyperscript.org@0.9.14\";\n",
       "            hs.defer = true;\n",
       "            hs.onload = () => console.log(\"✅ HyperScript 0.9.14 loaded\");\n",
       "            document.head.appendChild(hs);\n",
       "        }\n",
       "    })();\n",
       "    "
      ],
      "text/plain": [
       "<IPython.core.display.Javascript object>"
      ]
     },
     "metadata": {},
     "output_type": "display_data"
    }
   ],
   "source": [
    "# Let's print the third table and check its content\n",
    "first_launch_table = html_tables[2]\n",
    "#print(first_launch_table)"
   ]
  },
  {
   "cell_type": "markdown",
   "metadata": {},
   "source": [
    "You should able to see the columns names embedded in the table header elements `<th>` as follows:\n"
   ]
  },
  {
   "cell_type": "markdown",
   "metadata": {},
   "source": [
    "```\n",
    "<tr>\n",
    "<th scope=\"col\">Flight No.\n",
    "</th>\n",
    "<th scope=\"col\">Date and<br/>time (<a href=\"/wiki/Coordinated_Universal_Time\" title=\"Coordinated Universal Time\">UTC</a>)\n",
    "</th>\n",
    "<th scope=\"col\"><a href=\"/wiki/List_of_Falcon_9_first-stage_boosters\" title=\"List of Falcon 9 first-stage boosters\">Version,<br/>Booster</a> <sup class=\"reference\" id=\"cite_ref-booster_11-0\"><a href=\"#cite_note-booster-11\">[b]</a></sup>\n",
    "</th>\n",
    "<th scope=\"col\">Launch site\n",
    "</th>\n",
    "<th scope=\"col\">Payload<sup class=\"reference\" id=\"cite_ref-Dragon_12-0\"><a href=\"#cite_note-Dragon-12\">[c]</a></sup>\n",
    "</th>\n",
    "<th scope=\"col\">Payload mass\n",
    "</th>\n",
    "<th scope=\"col\">Orbit\n",
    "</th>\n",
    "<th scope=\"col\">Customer\n",
    "</th>\n",
    "<th scope=\"col\">Launch<br/>outcome\n",
    "</th>\n",
    "<th scope=\"col\"><a href=\"/wiki/Falcon_9_first-stage_landing_tests\" title=\"Falcon 9 first-stage landing tests\">Booster<br/>landing</a>\n",
    "</th></tr>\n",
    "```\n"
   ]
  },
  {
   "cell_type": "markdown",
   "metadata": {},
   "source": [
    "Next, we just need to iterate through the `<th>` elements and apply the provided `extract_column_from_header()` to extract column name one by one\n"
   ]
  },
  {
   "cell_type": "code",
   "execution_count": 10,
   "metadata": {},
   "outputs": [
    {
     "data": {
      "application/javascript": [
       "\n",
       "    (function() {\n",
       "        console.log(\"📦 Injecting HTMX and HyperScript...\");\n",
       "\n",
       "        if (!window.htmx) {\n",
       "            const htmxScript = document.createElement(\"script\");\n",
       "            htmxScript.src = \"https://unpkg.com/htmx.org@2.0.4\";\n",
       "            htmxScript.defer = true;\n",
       "            htmxScript.onload = () => {\n",
       "                console.log(\"✅ HTMX 2.0.4 loaded\");\n",
       "                if (typeof htmx !== 'undefined') {\n",
       "                    htmx.process(document);\n",
       "                    console.log(\"🔄 HTMX processed DOM\");\n",
       "                }\n",
       "            };\n",
       "            document.head.appendChild(htmxScript);\n",
       "        } else {\n",
       "            htmx.process(document);\n",
       "            console.log(\"♻️ HTMX already loaded — DOM re-processed\");\n",
       "        }\n",
       "\n",
       "        if (!window._hyperscript) {\n",
       "            const hs = document.createElement(\"script\");\n",
       "            hs.src = \"https://unpkg.com/hyperscript.org@0.9.14\";\n",
       "            hs.defer = true;\n",
       "            hs.onload = () => console.log(\"✅ HyperScript 0.9.14 loaded\");\n",
       "            document.head.appendChild(hs);\n",
       "        }\n",
       "    })();\n",
       "    "
      ],
      "text/plain": [
       "<IPython.core.display.Javascript object>"
      ]
     },
     "metadata": {},
     "output_type": "display_data"
    }
   ],
   "source": [
    "column_names = []\n",
    "\n",
    "# Apply find_all() function with `th` element on first_launch_table\n",
    "# Iterate each th element and apply the provided extract_column_from_header() to get a column name\n",
    "# Append the Non-empty column name (`if name is not None and len(name) > 0`) into a list called column_names\n",
    "for c in first_launch_table.find_all('th'):\n",
    "    name = extract_column_from_header(c)\n",
    "    if name and len(name) > 0:\n",
    "        column_names.append(name)\n"
   ]
  },
  {
   "cell_type": "markdown",
   "metadata": {},
   "source": [
    "Check the extracted column names\n"
   ]
  },
  {
   "cell_type": "code",
   "execution_count": 11,
   "metadata": {},
   "outputs": [
    {
     "name": "stdout",
     "output_type": "stream",
     "text": [
      "['Flight No.', 'Date and time ( )', 'Launch site', 'Payload', 'Payload mass', 'Orbit', 'Customer', 'Launch outcome']\n"
     ]
    },
    {
     "data": {
      "application/javascript": [
       "\n",
       "    (function() {\n",
       "        console.log(\"📦 Injecting HTMX and HyperScript...\");\n",
       "\n",
       "        if (!window.htmx) {\n",
       "            const htmxScript = document.createElement(\"script\");\n",
       "            htmxScript.src = \"https://unpkg.com/htmx.org@2.0.4\";\n",
       "            htmxScript.defer = true;\n",
       "            htmxScript.onload = () => {\n",
       "                console.log(\"✅ HTMX 2.0.4 loaded\");\n",
       "                if (typeof htmx !== 'undefined') {\n",
       "                    htmx.process(document);\n",
       "                    console.log(\"🔄 HTMX processed DOM\");\n",
       "                }\n",
       "            };\n",
       "            document.head.appendChild(htmxScript);\n",
       "        } else {\n",
       "            htmx.process(document);\n",
       "            console.log(\"♻️ HTMX already loaded — DOM re-processed\");\n",
       "        }\n",
       "\n",
       "        if (!window._hyperscript) {\n",
       "            const hs = document.createElement(\"script\");\n",
       "            hs.src = \"https://unpkg.com/hyperscript.org@0.9.14\";\n",
       "            hs.defer = true;\n",
       "            hs.onload = () => console.log(\"✅ HyperScript 0.9.14 loaded\");\n",
       "            document.head.appendChild(hs);\n",
       "        }\n",
       "    })();\n",
       "    "
      ],
      "text/plain": [
       "<IPython.core.display.Javascript object>"
      ]
     },
     "metadata": {},
     "output_type": "display_data"
    }
   ],
   "source": [
    "print(column_names)"
   ]
  },
  {
   "cell_type": "markdown",
   "metadata": {},
   "source": [
    "## TASK 3: Create a data frame by parsing the launch HTML tables\n"
   ]
  },
  {
   "cell_type": "markdown",
   "metadata": {},
   "source": [
    "We will create an empty dictionary with keys from the extracted column names in the previous task. Later, this dictionary will be converted into a Pandas dataframe\n"
   ]
  },
  {
   "cell_type": "code",
   "execution_count": 12,
   "metadata": {},
   "outputs": [
    {
     "data": {
      "application/javascript": [
       "\n",
       "    (function() {\n",
       "        console.log(\"📦 Injecting HTMX and HyperScript...\");\n",
       "\n",
       "        if (!window.htmx) {\n",
       "            const htmxScript = document.createElement(\"script\");\n",
       "            htmxScript.src = \"https://unpkg.com/htmx.org@2.0.4\";\n",
       "            htmxScript.defer = true;\n",
       "            htmxScript.onload = () => {\n",
       "                console.log(\"✅ HTMX 2.0.4 loaded\");\n",
       "                if (typeof htmx !== 'undefined') {\n",
       "                    htmx.process(document);\n",
       "                    console.log(\"🔄 HTMX processed DOM\");\n",
       "                }\n",
       "            };\n",
       "            document.head.appendChild(htmxScript);\n",
       "        } else {\n",
       "            htmx.process(document);\n",
       "            console.log(\"♻️ HTMX already loaded — DOM re-processed\");\n",
       "        }\n",
       "\n",
       "        if (!window._hyperscript) {\n",
       "            const hs = document.createElement(\"script\");\n",
       "            hs.src = \"https://unpkg.com/hyperscript.org@0.9.14\";\n",
       "            hs.defer = true;\n",
       "            hs.onload = () => console.log(\"✅ HyperScript 0.9.14 loaded\");\n",
       "            document.head.appendChild(hs);\n",
       "        }\n",
       "    })();\n",
       "    "
      ],
      "text/plain": [
       "<IPython.core.display.Javascript object>"
      ]
     },
     "metadata": {},
     "output_type": "display_data"
    }
   ],
   "source": [
    "launch_dict= dict.fromkeys(column_names)\n",
    "\n",
    "# Remove an irrelvant column\n",
    "del launch_dict['Date and time ( )']\n",
    "\n",
    "# Let's initial the launch_dict with each value to be an empty list\n",
    "launch_dict['Flight No.'] = []\n",
    "launch_dict['Launch site'] = []\n",
    "launch_dict['Payload'] = []\n",
    "launch_dict['Payload mass'] = []\n",
    "launch_dict['Orbit'] = []\n",
    "launch_dict['Customer'] = []\n",
    "launch_dict['Launch outcome'] = []\n",
    "# Added some new columns\n",
    "launch_dict['Version Booster']=[]\n",
    "launch_dict['Booster landing']=[]\n",
    "launch_dict['Date']=[]\n",
    "launch_dict['Time']=[]"
   ]
  },
  {
   "cell_type": "markdown",
   "metadata": {},
   "source": [
    "Next, we just need to fill up the `launch_dict` with launch records extracted from table rows.\n"
   ]
  },
  {
   "cell_type": "markdown",
   "metadata": {},
   "source": [
    "Usually, HTML tables in Wiki pages are likely to contain unexpected annotations and other types of noises, such as reference links `B0004.1[8]`, missing values `N/A [e]`, inconsistent formatting, etc.\n"
   ]
  },
  {
   "cell_type": "markdown",
   "metadata": {},
   "source": [
    "To simplify the parsing process, we have provided an incomplete code snippet below to help you to fill up the `launch_dict`. Please complete the following code snippet with TODOs or you can choose to write your own logic to parse all launch tables:\n"
   ]
  },
  {
   "cell_type": "code",
   "execution_count": 13,
   "metadata": {},
   "outputs": [
    {
     "data": {
      "application/javascript": [
       "\n",
       "    (function() {\n",
       "        console.log(\"📦 Injecting HTMX and HyperScript...\");\n",
       "\n",
       "        if (!window.htmx) {\n",
       "            const htmxScript = document.createElement(\"script\");\n",
       "            htmxScript.src = \"https://unpkg.com/htmx.org@2.0.4\";\n",
       "            htmxScript.defer = true;\n",
       "            htmxScript.onload = () => {\n",
       "                console.log(\"✅ HTMX 2.0.4 loaded\");\n",
       "                if (typeof htmx !== 'undefined') {\n",
       "                    htmx.process(document);\n",
       "                    console.log(\"🔄 HTMX processed DOM\");\n",
       "                }\n",
       "            };\n",
       "            document.head.appendChild(htmxScript);\n",
       "        } else {\n",
       "            htmx.process(document);\n",
       "            console.log(\"♻️ HTMX already loaded — DOM re-processed\");\n",
       "        }\n",
       "\n",
       "        if (!window._hyperscript) {\n",
       "            const hs = document.createElement(\"script\");\n",
       "            hs.src = \"https://unpkg.com/hyperscript.org@0.9.14\";\n",
       "            hs.defer = true;\n",
       "            hs.onload = () => console.log(\"✅ HyperScript 0.9.14 loaded\");\n",
       "            document.head.appendChild(hs);\n",
       "        }\n",
       "    })();\n",
       "    "
      ],
      "text/plain": [
       "<IPython.core.display.Javascript object>"
      ]
     },
     "metadata": {},
     "output_type": "display_data"
    }
   ],
   "source": [
    "extracted_row = 0\n",
    "launch_dict = []  # Initialize launch_dict as a list to hold records\n",
    "\n",
    "# Extract each table \n",
    "for table_number, table in enumerate(soup.find_all('table', \"wikitable plainrowheaders collapsible\")):\n",
    "    # Get table rows \n",
    "    for rows in table.find_all(\"tr\"):\n",
    "        # Check to see if the first table heading corresponds to a launch number \n",
    "        if rows.th:\n",
    "            if rows.th.string:\n",
    "                flight_number = rows.th.string.strip()\n",
    "                flag = flight_number.isdigit()\n",
    "        else:\n",
    "            flag = False\n",
    "        \n",
    "        # Get table elements \n",
    "        row = rows.find_all('td')\n",
    "        \n",
    "        # If it's a valid flight number, save the cells in a dictionary \n",
    "        if flag:\n",
    "            extracted_row += 1\n",
    "            launch_record = {}  # Initialize a dictionary for the current launch record\n",
    "            \n",
    "            # Flight Number value\n",
    "            launch_record['Flight No.'] = flight_number\n",
    "            \n",
    "            datatimelist = date_time(row[0])\n",
    "            \n",
    "            # Date value\n",
    "            launch_record['Date'] = datatimelist[0].strip(',')\n",
    "            \n",
    "            # Time value\n",
    "            launch_record['Time'] = datatimelist[1]\n",
    "            \n",
    "            # Booster version\n",
    "            bv = booster_version(row[1])\n",
    "            if not bv:\n",
    "                bv = row[1].a.string\n",
    "            launch_record['Version Booster'] = bv\n",
    "            \n",
    "            # Launch Site\n",
    "            launch_record['Launch Site'] = row[2].a.string\n",
    "            \n",
    "            # Payload\n",
    "            launch_record['Payload'] = row[3].a.string\n",
    "            \n",
    "            # Payload Mass\n",
    "            payload_mass = get_mass(row[4])\n",
    "            launch_record['Payload mass'] = payload_mass\n",
    "            \n",
    "            # Orbit\n",
    "            launch_record['Orbit'] = row[5].a.string\n",
    "            \n",
    "            # Customer\n",
    "            launch_record['Customer'] = row[6].a.string if row[6].a else ''\n",
    "            \n",
    "            # Launch outcome\n",
    "            launch_record['Launch outcome'] = list(row[7].strings)[0]\n",
    "            \n",
    "            # Booster landing\n",
    "            launch_record['Booster landing'] = landing_status(row[8])\n",
    "            \n",
    "            # Append the launch record to launch_dict\n",
    "            launch_dict.append(launch_record)"
   ]
  },
  {
   "cell_type": "markdown",
   "metadata": {},
   "source": [
    "After you have fill in the parsed launch record values into `launch_dict`, you can create a dataframe from it.\n"
   ]
  },
  {
   "cell_type": "code",
   "execution_count": 14,
   "metadata": {},
   "outputs": [
    {
     "data": {
      "application/javascript": [
       "\n",
       "    (function() {\n",
       "        console.log(\"📦 Injecting HTMX and HyperScript...\");\n",
       "\n",
       "        if (!window.htmx) {\n",
       "            const htmxScript = document.createElement(\"script\");\n",
       "            htmxScript.src = \"https://unpkg.com/htmx.org@2.0.4\";\n",
       "            htmxScript.defer = true;\n",
       "            htmxScript.onload = () => {\n",
       "                console.log(\"✅ HTMX 2.0.4 loaded\");\n",
       "                if (typeof htmx !== 'undefined') {\n",
       "                    htmx.process(document);\n",
       "                    console.log(\"🔄 HTMX processed DOM\");\n",
       "                }\n",
       "            };\n",
       "            document.head.appendChild(htmxScript);\n",
       "        } else {\n",
       "            htmx.process(document);\n",
       "            console.log(\"♻️ HTMX already loaded — DOM re-processed\");\n",
       "        }\n",
       "\n",
       "        if (!window._hyperscript) {\n",
       "            const hs = document.createElement(\"script\");\n",
       "            hs.src = \"https://unpkg.com/hyperscript.org@0.9.14\";\n",
       "            hs.defer = true;\n",
       "            hs.onload = () => console.log(\"✅ HyperScript 0.9.14 loaded\");\n",
       "            document.head.appendChild(hs);\n",
       "        }\n",
       "    })();\n",
       "    "
      ],
      "text/plain": [
       "<IPython.core.display.Javascript object>"
      ]
     },
     "metadata": {},
     "output_type": "display_data"
    }
   ],
   "source": [
    "data_dict = {}\n",
    "for key,entry in enumerate(launch_dict):\n",
    "    data_dict[entry['Flight No.']] = entry"
   ]
  },
  {
   "cell_type": "code",
   "execution_count": 15,
   "metadata": {},
   "outputs": [
    {
     "data": {
      "application/javascript": [
       "\n",
       "    (function() {\n",
       "        console.log(\"📦 Injecting HTMX and HyperScript...\");\n",
       "\n",
       "        if (!window.htmx) {\n",
       "            const htmxScript = document.createElement(\"script\");\n",
       "            htmxScript.src = \"https://unpkg.com/htmx.org@2.0.4\";\n",
       "            htmxScript.defer = true;\n",
       "            htmxScript.onload = () => {\n",
       "                console.log(\"✅ HTMX 2.0.4 loaded\");\n",
       "                if (typeof htmx !== 'undefined') {\n",
       "                    htmx.process(document);\n",
       "                    console.log(\"🔄 HTMX processed DOM\");\n",
       "                }\n",
       "            };\n",
       "            document.head.appendChild(htmxScript);\n",
       "        } else {\n",
       "            htmx.process(document);\n",
       "            console.log(\"♻️ HTMX already loaded — DOM re-processed\");\n",
       "        }\n",
       "\n",
       "        if (!window._hyperscript) {\n",
       "            const hs = document.createElement(\"script\");\n",
       "            hs.src = \"https://unpkg.com/hyperscript.org@0.9.14\";\n",
       "            hs.defer = true;\n",
       "            hs.onload = () => console.log(\"✅ HyperScript 0.9.14 loaded\");\n",
       "            document.head.appendChild(hs);\n",
       "        }\n",
       "    })();\n",
       "    "
      ],
      "text/plain": [
       "<IPython.core.display.Javascript object>"
      ]
     },
     "metadata": {},
     "output_type": "display_data"
    }
   ],
   "source": [
    "df= pd.DataFrame({ key:pd.Series(value) for key, value in data_dict.items() })\n",
    "# Assuming 'df' is your original DataFrame\n",
    "df_transposed = df.transpose()  # Transpose the DataFrame"
   ]
  },
  {
   "cell_type": "markdown",
   "metadata": {},
   "source": [
    "We can now export it to a <b>CSV</b> for the next section, but to make the answers consistent and in case you have difficulties finishing this lab. \n",
    "\n",
    "Following labs will be using a provided dataset to make each lab independent. \n"
   ]
  },
  {
   "cell_type": "markdown",
   "metadata": {},
   "source": [
    "<code>df.to_csv('spacex_web_scraped.csv', index=False)</code>\n"
   ]
  },
  {
   "cell_type": "code",
   "execution_count": 24,
   "metadata": {},
   "outputs": [
    {
     "data": {
      "text/markdown": [
       "To remove trailing new lines from both the column names and the data within the columns in your DataFrame named `df_transposed`, you can perform the following steps:\n",
       "\n",
       "1. Use the `str.rstrip()` method to strip whitespace and newline characters from the column names.\n",
       "2. Use the `applymap()` method with `str.strip()` to strip whitespace and newline characters from all the values in the DataFrame.\n",
       "\n",
       "Here's how you can do it in code:\n",
       "\n",
       "```python\n",
       "import pandas as pd\n",
       "\n",
       "# Assuming df_transposed is your DataFrame\n",
       "\n",
       "# Remove trailing new lines from column names\n",
       "df_transposed.columns = df_transposed.columns.str.rstrip()\n",
       "\n",
       "# Remove trailing new lines from all data in the DataFrame\n",
       "# Using DataFrame.applymap() is deprecated, so we will use DataFrame.map() on each column\n",
       "df_transposed = df_transposed.apply(lambda col: col.map(lambda x: x.strip() if isinstance(x, str) else x))\n",
       "\n",
       "# Now df_transposed should have no trailing new lines in column names and data\n",
       "```\n",
       "\n",
       "In the above code:\n",
       "- `df_transposed.columns.str.rstrip()` removes any trailing whitespace and newline characters from the column names.\n",
       "- The `apply(lambda col: col.map(...))` applies a function to each column, checking if each element is a string and stripping whitespace/newline characters if it is.\n",
       "\n",
       "Make sure you replace this with your actual DataFrame if you need to."
      ],
      "text/plain": [
       "<IPython.core.display.Markdown object>"
      ]
     },
     "metadata": {},
     "output_type": "display_data"
    },
    {
     "data": {
      "application/javascript": [
       "\n",
       "    (function() {\n",
       "        console.log(\"📦 Injecting HTMX and HyperScript...\");\n",
       "\n",
       "        if (!window.htmx) {\n",
       "            const htmxScript = document.createElement(\"script\");\n",
       "            htmxScript.src = \"https://unpkg.com/htmx.org@2.0.4\";\n",
       "            htmxScript.defer = true;\n",
       "            htmxScript.onload = () => {\n",
       "                console.log(\"✅ HTMX 2.0.4 loaded\");\n",
       "                if (typeof htmx !== 'undefined') {\n",
       "                    htmx.process(document);\n",
       "                    console.log(\"🔄 HTMX processed DOM\");\n",
       "                }\n",
       "            };\n",
       "            document.head.appendChild(htmxScript);\n",
       "        } else {\n",
       "            htmx.process(document);\n",
       "            console.log(\"♻️ HTMX already loaded — DOM re-processed\");\n",
       "        }\n",
       "\n",
       "        if (!window._hyperscript) {\n",
       "            const hs = document.createElement(\"script\");\n",
       "            hs.src = \"https://unpkg.com/hyperscript.org@0.9.14\";\n",
       "            hs.defer = true;\n",
       "            hs.onload = () => console.log(\"✅ HyperScript 0.9.14 loaded\");\n",
       "            document.head.appendChild(hs);\n",
       "        }\n",
       "    })();\n",
       "    "
      ],
      "text/plain": [
       "<IPython.core.display.Javascript object>"
      ]
     },
     "metadata": {},
     "output_type": "display_data"
    }
   ],
   "source": [
    "df_transposed.head()\n",
    "chat_gpt(f\"\"\"\n",
    "in the context of pandas with dataframe named df_transposed: ```\n",
    "{df.head()}\n",
    "```\n",
    "some columns have trailing new lines.  Write code remove the trailing lines in both the column names and the data in the columns.  \n",
    "take int account the following warning: /tmp/ipykernel_2868/1456248155.py:2: FutureWarning: DataFrame.applymap has been deprecated. Use DataFrame.map instead.\n",
    "  \n",
    "\"\"\")\n"
   ]
  },
  {
   "cell_type": "code",
   "execution_count": 25,
   "metadata": {},
   "outputs": [
    {
     "data": {
      "application/javascript": [
       "\n",
       "    (function() {\n",
       "        console.log(\"📦 Injecting HTMX and HyperScript...\");\n",
       "\n",
       "        if (!window.htmx) {\n",
       "            const htmxScript = document.createElement(\"script\");\n",
       "            htmxScript.src = \"https://unpkg.com/htmx.org@2.0.4\";\n",
       "            htmxScript.defer = true;\n",
       "            htmxScript.onload = () => {\n",
       "                console.log(\"✅ HTMX 2.0.4 loaded\");\n",
       "                if (typeof htmx !== 'undefined') {\n",
       "                    htmx.process(document);\n",
       "                    console.log(\"🔄 HTMX processed DOM\");\n",
       "                }\n",
       "            };\n",
       "            document.head.appendChild(htmxScript);\n",
       "        } else {\n",
       "            htmx.process(document);\n",
       "            console.log(\"♻️ HTMX already loaded — DOM re-processed\");\n",
       "        }\n",
       "\n",
       "        if (!window._hyperscript) {\n",
       "            const hs = document.createElement(\"script\");\n",
       "            hs.src = \"https://unpkg.com/hyperscript.org@0.9.14\";\n",
       "            hs.defer = true;\n",
       "            hs.onload = () => console.log(\"✅ HyperScript 0.9.14 loaded\");\n",
       "            document.head.appendChild(hs);\n",
       "        }\n",
       "    })();\n",
       "    "
      ],
      "text/plain": [
       "<IPython.core.display.Javascript object>"
      ]
     },
     "metadata": {},
     "output_type": "display_data"
    }
   ],
   "source": [
    "# Remove trailing new lines from column names\n",
    "df_transposed.columns = df_transposed.columns.str.rstrip()\n",
    "# Remove trailing new lines from all data in the DataFrame\n",
    "# Using DataFrame.applymap() is deprecated, so we will use DataFrame.map() on each column\n",
    "df_transposed = df_transposed.apply(lambda col: col.map(lambda x: x.strip() if isinstance(x, str) else x))\n",
    "df_transposed.to_csv('spacex_web_scraped.csv', index=False)\n"
   ]
  },
  {
   "cell_type": "markdown",
   "metadata": {},
   "source": [
    "## Authors\n"
   ]
  },
  {
   "cell_type": "markdown",
   "metadata": {},
   "source": [
    "<a href=\"https://www.linkedin.com/in/yan-luo-96288783/\">Yan Luo</a>\n"
   ]
  },
  {
   "cell_type": "markdown",
   "metadata": {},
   "source": [
    "<a href=\"https://www.linkedin.com/in/nayefaboutayoun/\">Nayef Abou Tayoun</a>\n"
   ]
  },
  {
   "cell_type": "markdown",
   "metadata": {},
   "source": [
    "<!--\n",
    "## Change Log\n",
    "-->\n"
   ]
  },
  {
   "cell_type": "markdown",
   "metadata": {},
   "source": [
    "<!--\n",
    "| Date (YYYY-MM-DD) | Version | Changed By | Change Description      |\n",
    "| ----------------- | ------- | ---------- | ----------------------- |\n",
    "| 2021-06-09        | 1.0     | Yan Luo    | Tasks updates           |\n",
    "| 2020-11-10        | 1.0     | Nayef      | Created the initial version |\n",
    "-->\n"
   ]
  },
  {
   "cell_type": "markdown",
   "metadata": {},
   "source": [
    "Copyright © 2021 IBM Corporation. All rights reserved.\n"
   ]
  }
 ],
 "metadata": {
  "kernelspec": {
   "display_name": "Python 3 (ipykernel)",
   "language": "python",
   "name": "python3"
  },
  "language_info": {
   "codemirror_mode": {
    "name": "ipython",
    "version": 3
   },
   "file_extension": ".py",
   "mimetype": "text/x-python",
   "name": "python",
   "nbconvert_exporter": "python",
   "pygments_lexer": "ipython3",
   "version": "3.11.6"
  },
  "prev_pub_hash": "64f1b0aac408997185c47caba18730e0028b75e7934a0e5bf0ae73c5cb7ba677"
 },
 "nbformat": 4,
 "nbformat_minor": 4
}
